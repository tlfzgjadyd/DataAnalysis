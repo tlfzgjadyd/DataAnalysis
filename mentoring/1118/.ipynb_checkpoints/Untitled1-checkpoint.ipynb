{
 "cells": [
  {
   "cell_type": "markdown",
   "metadata": {},
   "source": [
    "# 미션$1"
   ]
  },
  {
   "cell_type": "markdown",
   "metadata": {},
   "source": [
    "### 똑같이 만들어보세요!"
   ]
  },
  {
   "cell_type": "markdown",
   "metadata": {},
   "source": [
    "# 마크다운 연습기"
   ]
  },
  {
   "cell_type": "markdown",
   "metadata": {},
   "source": [
    "마크다운을 사용하면서 주피터 노트북과 친해져보겠습니다"
   ]
  },
  {
   "cell_type": "markdown",
   "metadata": {},
   "source": [
    "이 링크를 누르면 [코알라](https://www.google.com/search?q=%EC%BD%94%EC%95%8C%EB%9D%BC&sxsrf=ALeKk02ULKgoyiCKpArCKHMS_n5rhzVh7w:1605691350391&source=lnms&tbm=isch&sa=X&ved=2ahUKEwiNgby04ovtAhWNxosBHa0yDZ0Q_AUoAXoECAUQAw&biw=820&bih=744&dpr=1.25) 로 이동하세요."
   ]
  },
  {
   "cell_type": "markdown",
   "metadata": {},
   "source": [
    "여기서부터는 다른 문단입니다."
   ]
  },
  {
   "cell_type": "markdown",
   "metadata": {},
   "source": [
    "<hr/>"
   ]
  },
  {
   "cell_type": "markdown",
   "metadata": {},
   "source": [
    "# 지금까지 배운 내용"
   ]
  },
  {
   "cell_type": "markdown",
   "metadata": {},
   "source": [
    "### 마크다운으로 배운 내용"
   ]
  },
  {
   "cell_type": "markdown",
   "metadata": {},
   "source": [
    "<hr/>"
   ]
  },
  {
   "cell_type": "markdown",
   "metadata": {},
   "source": [
    "1. 큰 제목 넣기"
   ]
  },
  {
   "cell_type": "markdown",
   "metadata": {},
   "source": [
    "2. 리스트 넣기"
   ]
  },
  {
   "cell_type": "markdown",
   "metadata": {},
   "source": [
    "3. 표 넣기"
   ]
  },
  {
   "cell_type": "markdown",
   "metadata": {},
   "source": [
    "4. 기타"
   ]
  },
  {
   "cell_type": "markdown",
   "metadata": {},
   "source": [
    "<hr/>"
   ]
  },
  {
   "cell_type": "markdown",
   "metadata": {},
   "source": [
    "# 정리"
   ]
  },
  {
   "cell_type": "markdown",
   "metadata": {},
   "source": [
    " 문법 | 사용법 |  \n",
    " - | - |\n",
    " 큰 제목 | #을 사용  \n",
    " 리스트 | - 혹은 1. 사용 \n",
    " \n",
    " (이때 -|-|안쓰면 표가 안생긴다)"
   ]
  },
  {
   "cell_type": "markdown",
   "metadata": {},
   "source": [
    "# 마무리"
   ]
  },
  {
   "cell_type": "markdown",
   "metadata": {},
   "source": [
    "### 파이썬 코드로 Hello World!를 만들면서 끝내요."
   ]
  },
  {
   "cell_type": "code",
   "execution_count": 2,
   "metadata": {},
   "outputs": [
    {
     "name": "stdout",
     "output_type": "stream",
     "text": [
      "Hello World\n"
     ]
    }
   ],
   "source": [
    "print(\"Hello World\")"
   ]
  },
  {
   "cell_type": "markdown",
   "metadata": {},
   "source": [
    "<hr/>"
   ]
  },
  {
   "cell_type": "markdown",
   "metadata": {},
   "source": [
    "# 제작자"
   ]
  },
  {
   "cell_type": "markdown",
   "metadata": {},
   "source": [
    "작성자 김혜린"
   ]
  },
  {
   "cell_type": "markdown",
   "metadata": {},
   "source": [
    "<img src=\"data:image/jpeg;base64,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\"/>"
   ]
  }
 ],
 "metadata": {
  "kernelspec": {
   "display_name": "Python 3",
   "language": "python",
   "name": "python3"
  },
  "language_info": {
   "codemirror_mode": {
    "name": "ipython",
    "version": 3
   },
   "file_extension": ".py",
   "mimetype": "text/x-python",
   "name": "python",
   "nbconvert_exporter": "python",
   "pygments_lexer": "ipython3",
   "version": "3.8.3"
  }
 },
 "nbformat": 4,
 "nbformat_minor": 4
}
